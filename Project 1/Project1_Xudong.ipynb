{
 "cells": [
  {
   "cell_type": "markdown",
   "id": "6934bd9f-0551-45f5-9343-9673cf62e03b",
   "metadata": {
    "tags": []
   },
   "source": [
    "# project 1"
   ]
  },
  {
   "cell_type": "markdown",
   "id": "c5aa55da-3455-463b-b808-40397f8ea627",
   "metadata": {},
   "source": [
    "__This project is mainly about data analysis and prediction based on Motorbike data. There are three chapters of the project,introduction, exploration of data analysis and prediction on selling price.__<br>\n",
    "* ***Introduction***<br>\n",
    "In the introduction, we view some basic information of Motorbike data set, which will help us go through next two chapters\n",
    "* ***EDA***<br>\n",
    "In chapter two, we are going to explore data, regarding with selling price, mainly about the relationship with other variables. We will use table, bar plot, scatter plot and box plot to explicitly show the relationship. After doing all these work, we could easily find some influence from other variable to selling price variable.\n",
    "* ***Prediction***<br>\n",
    "In the last chapter, we shall to using some AI algorithm like gradient descent algorithm based on constant or km_driven included in the dataset to make some prediction and check the RMSE."
   ]
  },
  {
   "cell_type": "markdown",
   "id": "ea41800e-10ba-49c2-bcad-d7f6b2656b6c",
   "metadata": {},
   "source": [
    "## Introduction"
   ]
  },
  {
   "cell_type": "markdown",
   "id": "54a18778-73cb-4e2d-97fd-7e5fb744c354",
   "metadata": {},
   "source": [
    "__Import modules__"
   ]
  },
  {
   "cell_type": "code",
   "execution_count": null,
   "id": "eb1411d8-fab3-46b4-9af9-7a85001a748e",
   "metadata": {},
   "outputs": [],
   "source": [
    "import numpy as np\n",
    "import pandas as pd\n",
    "import matplotlib.pyplot as plt\n",
    "import seaborn as sns\n",
    "import scipy.stats as stats"
   ]
  },
  {
   "cell_type": "markdown",
   "id": "11b1a94a-5f0c-4aa5-8af3-5710a2d36c4c",
   "metadata": {},
   "source": [
    "__Import Motorbike dataset as Motor and view the first few rows__"
   ]
  },
  {
   "cell_type": "code",
   "execution_count": null,
   "id": "7883bc56-4c62-4706-bf5c-7024155e8692",
   "metadata": {},
   "outputs": [
    {
     "data": {
      "text/html": [
       "<div>\n",
       "<style scoped>\n",
       "    .dataframe tbody tr th:only-of-type {\n",
       "        vertical-align: middle;\n",
       "    }\n",
       "\n",
       "    .dataframe tbody tr th {\n",
       "        vertical-align: top;\n",
       "    }\n",
       "\n",
       "    .dataframe thead th {\n",
       "        text-align: right;\n",
       "    }\n",
       "</style>\n",
       "<table border=\"1\" class=\"dataframe\">\n",
       "  <thead>\n",
       "    <tr style=\"text-align: right;\">\n",
       "      <th></th>\n",
       "      <th>name</th>\n",
       "      <th>selling_price</th>\n",
       "      <th>year</th>\n",
       "      <th>seller_type</th>\n",
       "      <th>owner</th>\n",
       "      <th>km_driven</th>\n",
       "      <th>ex_showroom_price</th>\n",
       "    </tr>\n",
       "  </thead>\n",
       "  <tbody>\n",
       "    <tr>\n",
       "      <th>0</th>\n",
       "      <td>Royal Enfield Classic 350</td>\n",
       "      <td>175000</td>\n",
       "      <td>2019</td>\n",
       "      <td>Individual</td>\n",
       "      <td>1st owner</td>\n",
       "      <td>350</td>\n",
       "      <td>NaN</td>\n",
       "    </tr>\n",
       "    <tr>\n",
       "      <th>1</th>\n",
       "      <td>Honda Dio</td>\n",
       "      <td>45000</td>\n",
       "      <td>2017</td>\n",
       "      <td>Individual</td>\n",
       "      <td>1st owner</td>\n",
       "      <td>5650</td>\n",
       "      <td>NaN</td>\n",
       "    </tr>\n",
       "    <tr>\n",
       "      <th>2</th>\n",
       "      <td>Royal Enfield Classic Gunmetal Grey</td>\n",
       "      <td>150000</td>\n",
       "      <td>2018</td>\n",
       "      <td>Individual</td>\n",
       "      <td>1st owner</td>\n",
       "      <td>12000</td>\n",
       "      <td>148114.0</td>\n",
       "    </tr>\n",
       "    <tr>\n",
       "      <th>3</th>\n",
       "      <td>Yamaha Fazer FI V 2.0 [2016-2018]</td>\n",
       "      <td>65000</td>\n",
       "      <td>2015</td>\n",
       "      <td>Individual</td>\n",
       "      <td>1st owner</td>\n",
       "      <td>23000</td>\n",
       "      <td>89643.0</td>\n",
       "    </tr>\n",
       "    <tr>\n",
       "      <th>4</th>\n",
       "      <td>Yamaha SZ [2013-2014]</td>\n",
       "      <td>20000</td>\n",
       "      <td>2011</td>\n",
       "      <td>Individual</td>\n",
       "      <td>2nd owner</td>\n",
       "      <td>21000</td>\n",
       "      <td>NaN</td>\n",
       "    </tr>\n",
       "  </tbody>\n",
       "</table>\n",
       "</div>"
      ],
      "text/plain": [
       "                                  name  selling_price  year seller_type  \\\n",
       "0            Royal Enfield Classic 350         175000  2019  Individual   \n",
       "1                            Honda Dio          45000  2017  Individual   \n",
       "2  Royal Enfield Classic Gunmetal Grey         150000  2018  Individual   \n",
       "3    Yamaha Fazer FI V 2.0 [2016-2018]          65000  2015  Individual   \n",
       "4                Yamaha SZ [2013-2014]          20000  2011  Individual   \n",
       "\n",
       "       owner  km_driven  ex_showroom_price  \n",
       "0  1st owner        350                NaN  \n",
       "1  1st owner       5650                NaN  \n",
       "2  1st owner      12000           148114.0  \n",
       "3  1st owner      23000            89643.0  \n",
       "4  2nd owner      21000                NaN  "
      ]
     },
     "execution_count": 3,
     "metadata": {},
     "output_type": "execute_result"
    }
   ],
   "source": [
    "Motor = pd.read_csv(\"bikeDetails.csv\")\n",
    "Motor.head()"
   ]
  },
  {
   "cell_type": "markdown",
   "id": "31dd3742-e704-4cb0-a2be-21794e829df9",
   "metadata": {},
   "source": [
    "Basic information of Motor"
   ]
  },
  {
   "cell_type": "code",
   "execution_count": null,
   "id": "67d77502-5983-49ab-b03d-2b8ab2483224",
   "metadata": {},
   "outputs": [
    {
     "name": "stdout",
     "output_type": "stream",
     "text": [
      "<class 'pandas.core.frame.DataFrame'>\n",
      "RangeIndex: 1061 entries, 0 to 1060\n",
      "Data columns (total 7 columns):\n",
      " #   Column             Non-Null Count  Dtype  \n",
      "---  ------             --------------  -----  \n",
      " 0   name               1061 non-null   object \n",
      " 1   selling_price      1061 non-null   int64  \n",
      " 2   year               1061 non-null   int64  \n",
      " 3   seller_type        1061 non-null   object \n",
      " 4   owner              1061 non-null   object \n",
      " 5   km_driven          1061 non-null   int64  \n",
      " 6   ex_showroom_price  626 non-null    float64\n",
      "dtypes: float64(1), int64(3), object(3)\n",
      "memory usage: 58.1+ KB\n"
     ]
    }
   ],
   "source": [
    "Motor.info()"
   ]
  },
  {
   "cell_type": "markdown",
   "id": "a7dfc8f8-a2c2-4ce5-9f91-64509e92e721",
   "metadata": {},
   "source": [
    "## EDA"
   ]
  },
  {
   "cell_type": "markdown",
   "id": "99afcc29-aa0c-425b-be55-654bdc271c05",
   "metadata": {},
   "source": [
    "__In order to make the following story easier, let's change the name of the variables, and change type of three variables, like `owner`,`year`,`name`__"
   ]
  },
  {
   "cell_type": "code",
   "execution_count": null,
   "id": "517d251c-bdf9-409e-b4e3-f09c9a53d521",
   "metadata": {},
   "outputs": [
    {
     "data": {
      "text/html": [
       "<div>\n",
       "<style scoped>\n",
       "    .dataframe tbody tr th:only-of-type {\n",
       "        vertical-align: middle;\n",
       "    }\n",
       "\n",
       "    .dataframe tbody tr th {\n",
       "        vertical-align: top;\n",
       "    }\n",
       "\n",
       "    .dataframe thead th {\n",
       "        text-align: right;\n",
       "    }\n",
       "</style>\n",
       "<table border=\"1\" class=\"dataframe\">\n",
       "  <thead>\n",
       "    <tr style=\"text-align: right;\">\n",
       "      <th></th>\n",
       "      <th>name</th>\n",
       "      <th>s_price</th>\n",
       "      <th>year</th>\n",
       "      <th>s_type</th>\n",
       "      <th>owner</th>\n",
       "      <th>km_driven</th>\n",
       "      <th>ex_showroom_price</th>\n",
       "    </tr>\n",
       "  </thead>\n",
       "  <tbody>\n",
       "    <tr>\n",
       "      <th>0</th>\n",
       "      <td>Royal Enfield Classic 350</td>\n",
       "      <td>175000</td>\n",
       "      <td>2019</td>\n",
       "      <td>Individual</td>\n",
       "      <td>1st owner</td>\n",
       "      <td>350</td>\n",
       "      <td>NaN</td>\n",
       "    </tr>\n",
       "    <tr>\n",
       "      <th>1</th>\n",
       "      <td>Honda Dio</td>\n",
       "      <td>45000</td>\n",
       "      <td>2017</td>\n",
       "      <td>Individual</td>\n",
       "      <td>1st owner</td>\n",
       "      <td>5650</td>\n",
       "      <td>NaN</td>\n",
       "    </tr>\n",
       "    <tr>\n",
       "      <th>2</th>\n",
       "      <td>Royal Enfield Classic Gunmetal Grey</td>\n",
       "      <td>150000</td>\n",
       "      <td>2018</td>\n",
       "      <td>Individual</td>\n",
       "      <td>1st owner</td>\n",
       "      <td>12000</td>\n",
       "      <td>148114.0</td>\n",
       "    </tr>\n",
       "    <tr>\n",
       "      <th>3</th>\n",
       "      <td>Yamaha Fazer FI V 2.0 [2016-2018]</td>\n",
       "      <td>65000</td>\n",
       "      <td>2015</td>\n",
       "      <td>Individual</td>\n",
       "      <td>1st owner</td>\n",
       "      <td>23000</td>\n",
       "      <td>89643.0</td>\n",
       "    </tr>\n",
       "    <tr>\n",
       "      <th>4</th>\n",
       "      <td>Yamaha SZ [2013-2014]</td>\n",
       "      <td>20000</td>\n",
       "      <td>2011</td>\n",
       "      <td>Individual</td>\n",
       "      <td>2nd owner</td>\n",
       "      <td>21000</td>\n",
       "      <td>NaN</td>\n",
       "    </tr>\n",
       "  </tbody>\n",
       "</table>\n",
       "</div>"
      ],
      "text/plain": [
       "                                  name  s_price  year      s_type      owner  \\\n",
       "0            Royal Enfield Classic 350   175000  2019  Individual  1st owner   \n",
       "1                            Honda Dio    45000  2017  Individual  1st owner   \n",
       "2  Royal Enfield Classic Gunmetal Grey   150000  2018  Individual  1st owner   \n",
       "3    Yamaha Fazer FI V 2.0 [2016-2018]    65000  2015  Individual  1st owner   \n",
       "4                Yamaha SZ [2013-2014]    20000  2011  Individual  2nd owner   \n",
       "\n",
       "   km_driven  ex_showroom_price  \n",
       "0        350                NaN  \n",
       "1       5650                NaN  \n",
       "2      12000           148114.0  \n",
       "3      23000            89643.0  \n",
       "4      21000                NaN  "
      ]
     },
     "execution_count": 5,
     "metadata": {},
     "output_type": "execute_result"
    }
   ],
   "source": [
    "Motor.rename(columns = {\"selling_price\":\"s_price\",\"seller_type\":\"s_type\"},inplace = True)\n",
    "Motor.head()"
   ]
  },
  {
   "cell_type": "code",
   "execution_count": null,
   "id": "0b311dbe-5a33-49fa-a925-a802d707e429",
   "metadata": {},
   "outputs": [],
   "source": [
    "Motor.owner = Motor.owner.astype(\"category\")\n",
    "Motor.year = Motor.year.astype(\"category\")\n",
    "Motor.name = Motor.name.astype(\"category\")"
   ]
  },
  {
   "cell_type": "markdown",
   "id": "ddd9024c-5bfa-4b28-9191-0ab62f136c9b",
   "metadata": {},
   "source": [
    "#### EDA for category variable<br>\n",
    "__we make some variable type changes above and in this subsection we focus on these variable own relationship between each other__\n",
    "* number of occurrence of different variables"
   ]
  },
  {
   "cell_type": "code",
   "execution_count": null,
   "id": "b1efab73-1e73-474b-a2b3-96984369bb69",
   "metadata": {
    "scrolled": true,
    "tags": []
   },
   "outputs": [
    {
     "name": "stdout",
     "output_type": "stream",
     "text": [
      "Different type owner numbers\n",
      "1st owner    924\n",
      "2nd owner    123\n",
      "3rd owner     11\n",
      "4th owner      3\n",
      "Name: owner, dtype: int64 \n",
      "\n",
      "Different type of seller\n",
      "Individual    1055\n",
      "Dealer           6\n",
      "Name: s_type, dtype: int64 \n",
      "\n",
      "Different years\n",
      "2017    133\n",
      "2018    131\n",
      "2016    107\n",
      "2015    100\n",
      "2014     91\n",
      "2019     86\n",
      "2013     73\n",
      "2012     70\n",
      "2011     61\n",
      "2010     60\n",
      "2007     29\n",
      "2008     28\n",
      "2009     28\n",
      "2006     20\n",
      "2005     14\n",
      "2000      6\n",
      "2004      5\n",
      "2020      3\n",
      "2002      3\n",
      "1998      3\n",
      "2001      2\n",
      "1997      2\n",
      "1991      1\n",
      "2003      1\n",
      "1999      1\n",
      "1995      1\n",
      "1993      1\n",
      "1988      1\n",
      "Name: year, dtype: int64\n"
     ]
    }
   ],
   "source": [
    "print(\"Different type owner numbers\")\n",
    "print(Motor.owner.value_counts(),\"\\n\")\n",
    "print(\"Different type of seller\")\n",
    "print(Motor.s_type.value_counts(),\"\\n\")\n",
    "print(\"Different years\")\n",
    "print(Motor.year.value_counts())"
   ]
  },
  {
   "cell_type": "markdown",
   "id": "7adb5b1d-8bd0-4d42-8578-b163b53e100c",
   "metadata": {},
   "source": [
    "* Stacked, sides by sides plots and cross table betwwen owner type and seller type"
   ]
  },
  {
   "cell_type": "code",
   "execution_count": null,
   "id": "040f7e0a-57f0-4f2e-89e2-8d12e1f67fdf",
   "metadata": {},
   "outputs": [
    {
     "data": {
      "image/png": "[encoded data removed]",
      "text/plain": [
       "<Figure size 432x288 with 1 Axes>"
      ]
     },
     "metadata": {
      "needs_background": "light"
     },
     "output_type": "display_data"
    },
    {
     "data": {
      "image/png": "[encoded data removed]",
      "text/plain": [
       "<Figure size 432x288 with 1 Axes>"
      ]
     },
     "metadata": {
      "needs_background": "light"
     },
     "output_type": "display_data"
    },
    {
     "data": {
      "text/html": [
       "<div>\n",
       "<style scoped>\n",
       "    .dataframe tbody tr th:only-of-type {\n",
       "        vertical-align: middle;\n",
       "    }\n",
       "\n",
       "    .dataframe tbody tr th {\n",
       "        vertical-align: top;\n",
       "    }\n",
       "\n",
       "    .dataframe thead th {\n",
       "        text-align: right;\n",
       "    }\n",
       "</style>\n",
       "<table border=\"1\" class=\"dataframe\">\n",
       "  <thead>\n",
       "    <tr style=\"text-align: right;\">\n",
       "      <th>owner</th>\n",
       "      <th>1st owner</th>\n",
       "      <th>2nd owner</th>\n",
       "      <th>3rd owner</th>\n",
       "      <th>4th owner</th>\n",
       "      <th>All</th>\n",
       "    </tr>\n",
       "    <tr>\n",
       "      <th>s_type</th>\n",
       "      <th></th>\n",
       "      <th></th>\n",
       "      <th></th>\n",
       "      <th></th>\n",
       "      <th></th>\n",
       "    </tr>\n",
       "  </thead>\n",
       "  <tbody>\n",
       "    <tr>\n",
       "      <th>Dealer</th>\n",
       "      <td>4</td>\n",
       "      <td>2</td>\n",
       "      <td>0</td>\n",
       "      <td>0</td>\n",
       "      <td>6</td>\n",
       "    </tr>\n",
       "    <tr>\n",
       "      <th>Individual</th>\n",
       "      <td>920</td>\n",
       "      <td>121</td>\n",
       "      <td>11</td>\n",
       "      <td>3</td>\n",
       "      <td>1055</td>\n",
       "    </tr>\n",
       "    <tr>\n",
       "      <th>All</th>\n",
       "      <td>924</td>\n",
       "      <td>123</td>\n",
       "      <td>11</td>\n",
       "      <td>3</td>\n",
       "      <td>1061</td>\n",
       "    </tr>\n",
       "  </tbody>\n",
       "</table>\n",
       "</div>"
      ],
      "text/plain": [
       "owner       1st owner  2nd owner  3rd owner  4th owner   All\n",
       "s_type                                                      \n",
       "Dealer              4          2          0          0     6\n",
       "Individual        920        121         11          3  1055\n",
       "All               924        123         11          3  1061"
      ]
     },
     "execution_count": 8,
     "metadata": {},
     "output_type": "execute_result"
    }
   ],
   "source": [
    "table = pd.crosstab(Motor.s_type,Motor.owner)\n",
    "table.plot.bar(stacked = True)\n",
    "plt.xticks(rotation = 0)\n",
    "plt.show()\n",
    "table = pd.crosstab(Motor.s_type,Motor.owner)\n",
    "table.plot.bar()\n",
    "plt.xticks(rotation = 0)\n",
    "plt.show()\n",
    "table = pd.crosstab(Motor.s_type,Motor.owner,margins = True)\n",
    "table"
   ]
  },
  {
   "cell_type": "markdown",
   "id": "250b45bf-0abe-4521-8182-1ae9237f77c7",
   "metadata": {},
   "source": [
    "___According to the plot and table, we could clearly see the distribution of owner and seller, in motorbike market, most seller is individual which occupy 99.4% of total seller, dealer much less than individual seller, almost none, meanwhile most owner is 1st owner, occupying 87.1%, 2nd owner only occupying 11.6%, with negligible rest owner type___<br>"
   ]
  },
  {
   "cell_type": "code",
   "execution_count": 12,
   "id": "c12f5b97-dfd3-4fa3-bae4-0fa477184879",
   "metadata": {},
   "outputs": [
    {
     "data": {
      "image/png": "[encoded data removed]",
      "text/plain": [
       "<Figure size 432x288 with 1 Axes>"
      ]
     },
     "metadata": {
      "needs_background": "light"
     },
     "output_type": "display_data"
    },
    {
     "data": {
      "text/plain": [
       "<Figure size 432x288 with 0 Axes>"
      ]
     },
     "metadata": {},
     "output_type": "display_data"
    },
    {
     "data": {
      "text/plain": [
       "<Figure size 1440x1440 with 0 Axes>"
      ]
     },
     "metadata": {},
     "output_type": "display_data"
    },
    {
     "data": {
      "image/png": "[encoded data removed]",
      "text/plain": [
       "<Figure size 432x288 with 1 Axes>"
      ]
     },
     "metadata": {
      "needs_background": "light"
     },
     "output_type": "display_data"
    },
    {
     "data": {
      "text/plain": [
       "<Figure size 1440x1440 with 0 Axes>"
      ]
     },
     "metadata": {},
     "output_type": "display_data"
    },
    {
     "data": {
      "text/html": [
       "<div>\n",
       "<style scoped>\n",
       "    .dataframe tbody tr th:only-of-type {\n",
       "        vertical-align: middle;\n",
       "    }\n",
       "\n",
       "    .dataframe tbody tr th {\n",
       "        vertical-align: top;\n",
       "    }\n",
       "\n",
       "    .dataframe thead th {\n",
       "        text-align: right;\n",
       "    }\n",
       "</style>\n",
       "<table border=\"1\" class=\"dataframe\">\n",
       "  <thead>\n",
       "    <tr style=\"text-align: right;\">\n",
       "      <th>owner</th>\n",
       "      <th>1st owner</th>\n",
       "      <th>2nd owner</th>\n",
       "      <th>3rd owner</th>\n",
       "      <th>4th owner</th>\n",
       "      <th>All</th>\n",
       "    </tr>\n",
       "    <tr>\n",
       "      <th>year</th>\n",
       "      <th></th>\n",
       "      <th></th>\n",
       "      <th></th>\n",
       "      <th></th>\n",
       "      <th></th>\n",
       "    </tr>\n",
       "  </thead>\n",
       "  <tbody>\n",
       "    <tr>\n",
       "      <th>1988</th>\n",
       "      <td>1</td>\n",
       "      <td>0</td>\n",
       "      <td>0</td>\n",
       "      <td>0</td>\n",
       "      <td>1</td>\n",
       "    </tr>\n",
       "    <tr>\n",
       "      <th>1991</th>\n",
       "      <td>1</td>\n",
       "      <td>0</td>\n",
       "      <td>0</td>\n",
       "      <td>0</td>\n",
       "      <td>1</td>\n",
       "    </tr>\n",
       "    <tr>\n",
       "      <th>1993</th>\n",
       "      <td>0</td>\n",
       "      <td>1</td>\n",
       "      <td>0</td>\n",
       "      <td>0</td>\n",
       "      <td>1</td>\n",
       "    </tr>\n",
       "    <tr>\n",
       "      <th>1995</th>\n",
       "      <td>0</td>\n",
       "      <td>0</td>\n",
       "      <td>1</td>\n",
       "      <td>0</td>\n",
       "      <td>1</td>\n",
       "    </tr>\n",
       "    <tr>\n",
       "      <th>1997</th>\n",
       "      <td>2</td>\n",
       "      <td>0</td>\n",
       "      <td>0</td>\n",
       "      <td>0</td>\n",
       "      <td>2</td>\n",
       "    </tr>\n",
       "    <tr>\n",
       "      <th>1998</th>\n",
       "      <td>2</td>\n",
       "      <td>0</td>\n",
       "      <td>1</td>\n",
       "      <td>0</td>\n",
       "      <td>3</td>\n",
       "    </tr>\n",
       "    <tr>\n",
       "      <th>1999</th>\n",
       "      <td>0</td>\n",
       "      <td>1</td>\n",
       "      <td>0</td>\n",
       "      <td>0</td>\n",
       "      <td>1</td>\n",
       "    </tr>\n",
       "    <tr>\n",
       "      <th>2000</th>\n",
       "      <td>4</td>\n",
       "      <td>0</td>\n",
       "      <td>1</td>\n",
       "      <td>1</td>\n",
       "      <td>6</td>\n",
       "    </tr>\n",
       "    <tr>\n",
       "      <th>2001</th>\n",
       "      <td>1</td>\n",
       "      <td>1</td>\n",
       "      <td>0</td>\n",
       "      <td>0</td>\n",
       "      <td>2</td>\n",
       "    </tr>\n",
       "    <tr>\n",
       "      <th>2002</th>\n",
       "      <td>1</td>\n",
       "      <td>2</td>\n",
       "      <td>0</td>\n",
       "      <td>0</td>\n",
       "      <td>3</td>\n",
       "    </tr>\n",
       "    <tr>\n",
       "      <th>2003</th>\n",
       "      <td>1</td>\n",
       "      <td>0</td>\n",
       "      <td>0</td>\n",
       "      <td>0</td>\n",
       "      <td>1</td>\n",
       "    </tr>\n",
       "    <tr>\n",
       "      <th>2004</th>\n",
       "      <td>4</td>\n",
       "      <td>1</td>\n",
       "      <td>0</td>\n",
       "      <td>0</td>\n",
       "      <td>5</td>\n",
       "    </tr>\n",
       "    <tr>\n",
       "      <th>2005</th>\n",
       "      <td>11</td>\n",
       "      <td>3</td>\n",
       "      <td>0</td>\n",
       "      <td>0</td>\n",
       "      <td>14</td>\n",
       "    </tr>\n",
       "    <tr>\n",
       "      <th>2006</th>\n",
       "      <td>17</td>\n",
       "      <td>3</td>\n",
       "      <td>0</td>\n",
       "      <td>0</td>\n",
       "      <td>20</td>\n",
       "    </tr>\n",
       "    <tr>\n",
       "      <th>2007</th>\n",
       "      <td>24</td>\n",
       "      <td>5</td>\n",
       "      <td>0</td>\n",
       "      <td>0</td>\n",
       "      <td>29</td>\n",
       "    </tr>\n",
       "    <tr>\n",
       "      <th>2008</th>\n",
       "      <td>21</td>\n",
       "      <td>5</td>\n",
       "      <td>2</td>\n",
       "      <td>0</td>\n",
       "      <td>28</td>\n",
       "    </tr>\n",
       "    <tr>\n",
       "      <th>2009</th>\n",
       "      <td>21</td>\n",
       "      <td>5</td>\n",
       "      <td>1</td>\n",
       "      <td>1</td>\n",
       "      <td>28</td>\n",
       "    </tr>\n",
       "    <tr>\n",
       "      <th>2010</th>\n",
       "      <td>50</td>\n",
       "      <td>10</td>\n",
       "      <td>0</td>\n",
       "      <td>0</td>\n",
       "      <td>60</td>\n",
       "    </tr>\n",
       "    <tr>\n",
       "      <th>2011</th>\n",
       "      <td>50</td>\n",
       "      <td>10</td>\n",
       "      <td>1</td>\n",
       "      <td>0</td>\n",
       "      <td>61</td>\n",
       "    </tr>\n",
       "    <tr>\n",
       "      <th>2012</th>\n",
       "      <td>56</td>\n",
       "      <td>13</td>\n",
       "      <td>1</td>\n",
       "      <td>0</td>\n",
       "      <td>70</td>\n",
       "    </tr>\n",
       "    <tr>\n",
       "      <th>2013</th>\n",
       "      <td>66</td>\n",
       "      <td>6</td>\n",
       "      <td>1</td>\n",
       "      <td>0</td>\n",
       "      <td>73</td>\n",
       "    </tr>\n",
       "    <tr>\n",
       "      <th>2014</th>\n",
       "      <td>75</td>\n",
       "      <td>15</td>\n",
       "      <td>0</td>\n",
       "      <td>1</td>\n",
       "      <td>91</td>\n",
       "    </tr>\n",
       "    <tr>\n",
       "      <th>2015</th>\n",
       "      <td>83</td>\n",
       "      <td>16</td>\n",
       "      <td>1</td>\n",
       "      <td>0</td>\n",
       "      <td>100</td>\n",
       "    </tr>\n",
       "    <tr>\n",
       "      <th>2016</th>\n",
       "      <td>95</td>\n",
       "      <td>12</td>\n",
       "      <td>0</td>\n",
       "      <td>0</td>\n",
       "      <td>107</td>\n",
       "    </tr>\n",
       "    <tr>\n",
       "      <th>2017</th>\n",
       "      <td>122</td>\n",
       "      <td>10</td>\n",
       "      <td>1</td>\n",
       "      <td>0</td>\n",
       "      <td>133</td>\n",
       "    </tr>\n",
       "    <tr>\n",
       "      <th>2018</th>\n",
       "      <td>128</td>\n",
       "      <td>3</td>\n",
       "      <td>0</td>\n",
       "      <td>0</td>\n",
       "      <td>131</td>\n",
       "    </tr>\n",
       "    <tr>\n",
       "      <th>2019</th>\n",
       "      <td>85</td>\n",
       "      <td>1</td>\n",
       "      <td>0</td>\n",
       "      <td>0</td>\n",
       "      <td>86</td>\n",
       "    </tr>\n",
       "    <tr>\n",
       "      <th>2020</th>\n",
       "      <td>3</td>\n",
       "      <td>0</td>\n",
       "      <td>0</td>\n",
       "      <td>0</td>\n",
       "      <td>3</td>\n",
       "    </tr>\n",
       "    <tr>\n",
       "      <th>All</th>\n",
       "      <td>924</td>\n",
       "      <td>123</td>\n",
       "      <td>11</td>\n",
       "      <td>3</td>\n",
       "      <td>1061</td>\n",
       "    </tr>\n",
       "  </tbody>\n",
       "</table>\n",
       "</div>"
      ],
      "text/plain": [
       "owner  1st owner  2nd owner  3rd owner  4th owner   All\n",
       "year                                                   \n",
       "1988           1          0          0          0     1\n",
       "1991           1          0          0          0     1\n",
       "1993           0          1          0          0     1\n",
       "1995           0          0          1          0     1\n",
       "1997           2          0          0          0     2\n",
       "1998           2          0          1          0     3\n",
       "1999           0          1          0          0     1\n",
       "2000           4          0          1          1     6\n",
       "2001           1          1          0          0     2\n",
       "2002           1          2          0          0     3\n",
       "2003           1          0          0          0     1\n",
       "2004           4          1          0          0     5\n",
       "2005          11          3          0          0    14\n",
       "2006          17          3          0          0    20\n",
       "2007          24          5          0          0    29\n",
       "2008          21          5          2          0    28\n",
       "2009          21          5          1          1    28\n",
       "2010          50         10          0          0    60\n",
       "2011          50         10          1          0    61\n",
       "2012          56         13          1          0    70\n",
       "2013          66          6          1          0    73\n",
       "2014          75         15          0          1    91\n",
       "2015          83         16          1          0   100\n",
       "2016          95         12          0          0   107\n",
       "2017         122         10          1          0   133\n",
       "2018         128          3          0          0   131\n",
       "2019          85          1          0          0    86\n",
       "2020           3          0          0          0     3\n",
       "All          924        123         11          3  1061"
      ]
     },
     "execution_count": 12,
     "metadata": {},
     "output_type": "execute_result"
    }
   ],
   "source": [
    "table = pd.crosstab(Motor.year,Motor.owner)\n",
    "table.plot.bar(stacked = True)\n",
    "plt.xticks(rotation = 90)\n",
    "f = plt.figure()\n",
    "plt.figure(figsize=(20, 20))\n",
    "plt.show()\n",
    "table = pd.crosstab(Motor.year,Motor.owner)\n",
    "table.plot.bar()\n",
    "plt.xticks(rotation = 90)\n",
    "plt.figure(figsize=(20, 20))\n",
    "plt.show()\n",
    "table = pd.crosstab(Motor.year,Motor.owner,margins = True)\n",
    "table"
   ]
  },
  {
   "cell_type": "markdown",
   "id": "56636695-531b-410d-9223-5115382eeb59",
   "metadata": {},
   "source": [
    "### EDA for numeric variables, selling price and km_driven\n",
    "* Basic description and plot for `selling price`"
   ]
  },
  {
   "cell_type": "code",
   "execution_count": 18,
   "id": "c61a4eb4-42f7-4aec-99e9-36b56e1f7a24",
   "metadata": {},
   "outputs": [
    {
     "name": "stdout",
     "output_type": "stream",
     "text": [
      "Describe of Motor price\n",
      "count      1061.000000\n",
      "mean      59638.151744\n",
      "std       56304.291973\n",
      "min        5000.000000\n",
      "25%       28000.000000\n",
      "50%       45000.000000\n",
      "75%       70000.000000\n",
      "max      760000.000000\n",
      "Name: s_price, dtype: float64 \n",
      "\n"
     ]
    }
   ],
   "source": [
    "print(\"Describe of Motor price\")\n",
    "print(Motor[\"s_price\"].describe(),\"\\n\")"
   ]
  },
  {
   "cell_type": "code",
   "execution_count": 27,
   "id": "21699300-9177-4f97-a271-47811e3436ba",
   "metadata": {},
   "outputs": [
    {
     "name": "stderr",
     "output_type": "stream",
     "text": [
      "C:\\Users\\Lenovo\\AppData\\Local\\Programs\\Python\\Python310\\lib\\site-packages\\seaborn\\distributions.py:2619: FutureWarning: `distplot` is a deprecated function and will be removed in a future version. Please adapt your code to use either `displot` (a figure-level function with similar flexibility) or `histplot` (an axes-level function for histograms).\n",
      "  warnings.warn(msg, FutureWarning)\n"
     ]
    },
    {
     "data": {
      "image/png": "[encoded data removed]",
      "text/plain": [
       "<Figure size 432x288 with 1 Axes>"
      ]
     },
     "metadata": {
      "needs_background": "light"
     },
     "output_type": "display_data"
    }
   ],
   "source": [
    "sns.distplot(a=Motor.s_price, bins=30, color='purple',\n",
    "             hist_kws={\"edgecolor\": 'black'})\n",
    "plt.title(\"Histogram and distribution plot for selling price\")\n",
    "plt.xlabel(\"Selling Price\")\n",
    "plt.ylabel(\"Frenqency\")\n",
    "plt.show()"
   ]
  },
  {
   "cell_type": "markdown",
   "id": "b9167971-5285-449f-97bc-34a22a6050f6",
   "metadata": {},
   "source": [
    "Most motorbike were sold in price below 200000"
   ]
  },
  {
   "cell_type": "code",
   "execution_count": 28,
   "id": "eae3cade-4367-4b4e-aadd-ce25bb4032a5",
   "metadata": {},
   "outputs": [
    {
     "data": {
      "text/plain": [
       "Text(0, 0.5, 'Price')"
      ]
     },
     "execution_count": 28,
     "metadata": {},
     "output_type": "execute_result"
    },
    {
     "data": {
      "image/png": "[encoded data removed]",
      "text/plain": [
       "<Figure size 432x288 with 1 Axes>"
      ]
     },
     "metadata": {
      "needs_background": "light"
     },
     "output_type": "display_data"
    }
   ],
   "source": [
    "Motor.boxplot(column='s_price')\n",
    "plt.title(\"Boxplot for selling price\")\n",
    "plt.ylabel(\"Price\")"
   ]
  },
  {
   "cell_type": "code",
   "execution_count": 39,
   "id": "b3a5735c-1c3b-4f23-b87f-77795a1470c9",
   "metadata": {},
   "outputs": [
    {
     "data": {
      "text/plain": [
       "<AxesSubplot:xlabel='year', ylabel='s_price'>"
      ]
     },
     "execution_count": 39,
     "metadata": {},
     "output_type": "execute_result"
    },
    {
     "data": {
      "image/png": "[encoded data removed]",
      "text/plain": [
       "<Figure size 432x288 with 1 Axes>"
      ]
     },
     "metadata": {
      "needs_background": "light"
     },
     "output_type": "display_data"
    }
   ],
   "source": [
    "Motor.plot.scatter(x = \"year\", y = \"s_price\",c = \"purple\")"
   ]
  },
  {
   "cell_type": "markdown",
   "id": "93b33a53-e01c-4c1d-8120-a64cf15e4963",
   "metadata": {},
   "source": [
    "Motorbike price keep going up with time went on"
   ]
  },
  {
   "cell_type": "markdown",
   "id": "296191b2-ebea-4691-851d-0b0b1bf6dc81",
   "metadata": {},
   "source": [
    "* Basic description and plot for `km_driven`"
   ]
  },
  {
   "cell_type": "code",
   "execution_count": 33,
   "id": "048f1a61-ce9f-4866-ac8f-9c5c1171190e",
   "metadata": {},
   "outputs": [
    {
     "name": "stdout",
     "output_type": "stream",
     "text": [
      "Describe of Motor driven kilometer\n",
      "count      1061.000000\n",
      "mean      34359.833176\n",
      "std       51623.152702\n",
      "min         350.000000\n",
      "25%       13500.000000\n",
      "50%       25000.000000\n",
      "75%       43000.000000\n",
      "max      880000.000000\n",
      "Name: km_driven, dtype: float64 \n",
      "\n"
     ]
    }
   ],
   "source": [
    "print(\"Describe of Motor driven kilometer\")\n",
    "print(Motor[\"km_driven\"].describe(),\"\\n\")"
   ]
  },
  {
   "cell_type": "code",
   "execution_count": 34,
   "id": "b7cd4f6a-fa05-44de-8202-a9b564d7d3e9",
   "metadata": {},
   "outputs": [
    {
     "name": "stderr",
     "output_type": "stream",
     "text": [
      "C:\\Users\\Lenovo\\AppData\\Local\\Programs\\Python\\Python310\\lib\\site-packages\\seaborn\\distributions.py:2619: FutureWarning: `distplot` is a deprecated function and will be removed in a future version. Please adapt your code to use either `displot` (a figure-level function with similar flexibility) or `histplot` (an axes-level function for histograms).\n",
      "  warnings.warn(msg, FutureWarning)\n"
     ]
    },
    {
     "data": {
      "image/png": "[encoded data removed]",
      "text/plain": [
       "<Figure size 432x288 with 1 Axes>"
      ]
     },
     "metadata": {
      "needs_background": "light"
     },
     "output_type": "display_data"
    }
   ],
   "source": [
    "sns.distplot(a=Motor.km_driven, bins=30, color='green',\n",
    "             hist_kws={\"edgecolor\": 'black'})\n",
    "plt.title(\"Histogram and distribution plot for km_driven\")\n",
    "plt.xlabel(\"km_driven\")\n",
    "plt.ylabel(\"Frenqency\")\n",
    "plt.show()"
   ]
  },
  {
   "cell_type": "code",
   "execution_count": 35,
   "id": "06ef64ea-8a2e-43fc-809f-571dbfda95ed",
   "metadata": {},
   "outputs": [
    {
     "data": {
      "text/plain": [
       "Text(0, 0.5, 'km_driven')"
      ]
     },
     "execution_count": 35,
     "metadata": {},
     "output_type": "execute_result"
    },
    {
     "data": {
      "image/png": "[encoded data removed]",
      "text/plain": [
       "<Figure size 432x288 with 1 Axes>"
      ]
     },
     "metadata": {
      "needs_background": "light"
     },
     "output_type": "display_data"
    }
   ],
   "source": [
    "Motor.boxplot(column='km_driven')\n",
    "plt.title(\"Boxplot for km_driven\")\n",
    "plt.ylabel(\"km_driven\")"
   ]
  },
  {
   "cell_type": "code",
   "execution_count": 38,
   "id": "ebc19fea-e8dc-4939-a39d-87fdb7d1e3f2",
   "metadata": {},
   "outputs": [
    {
     "data": {
      "text/plain": [
       "<AxesSubplot:xlabel='year', ylabel='s_price'>"
      ]
     },
     "execution_count": 38,
     "metadata": {},
     "output_type": "execute_result"
    },
    {
     "data": {
      "image/png": "[encoded data removed]",
      "text/plain": [
       "<Figure size 432x288 with 1 Axes>"
      ]
     },
     "metadata": {
      "needs_background": "light"
     },
     "output_type": "display_data"
    }
   ],
   "source": [
    "Motor.plot.scatter(x = \"year\", y = \"s_price\",c = \"green\")"
   ]
  },
  {
   "cell_type": "markdown",
   "id": "42686352-0f39-4aed-b9dd-67266948563e",
   "metadata": {},
   "source": [
    "* Basic description and plot for `ex_showroom_price`"
   ]
  },
  {
   "cell_type": "code",
   "execution_count": 46,
   "id": "3c6f4822-5edf-4ba5-97f6-491789893f2a",
   "metadata": {},
   "outputs": [
    {
     "name": "stdout",
     "output_type": "stream",
     "text": [
      "Describe of ex_showroom_price\n",
      "count    6.260000e+02\n",
      "mean     8.795871e+04\n",
      "std      7.749659e+04\n",
      "min      3.049000e+04\n",
      "25%      5.485200e+04\n",
      "50%      7.275250e+04\n",
      "75%      8.703150e+04\n",
      "max      1.278000e+06\n",
      "Name: ex_showroom_price, dtype: float64 \n",
      "\n"
     ]
    }
   ],
   "source": [
    "print(\"Describe of ex_showroom_price\")\n",
    "print(Motor[\"ex_showroom_price\"].describe(),\"\\n\")"
   ]
  },
  {
   "cell_type": "code",
   "execution_count": 47,
   "id": "b12d9282-e81f-4c31-96a2-9f6baeb07687",
   "metadata": {},
   "outputs": [
    {
     "name": "stderr",
     "output_type": "stream",
     "text": [
      "C:\\Users\\Lenovo\\AppData\\Local\\Programs\\Python\\Python310\\lib\\site-packages\\seaborn\\distributions.py:2619: FutureWarning: `distplot` is a deprecated function and will be removed in a future version. Please adapt your code to use either `displot` (a figure-level function with similar flexibility) or `histplot` (an axes-level function for histograms).\n",
      "  warnings.warn(msg, FutureWarning)\n"
     ]
    },
    {
     "data": {
      "image/png": "[encoded data removed]",
      "text/plain": [
       "<Figure size 432x288 with 1 Axes>"
      ]
     },
     "metadata": {
      "needs_background": "light"
     },
     "output_type": "display_data"
    }
   ],
   "source": [
    "sns.distplot(a=Motor.ex_showroom_price, bins=30, color='orange',\n",
    "             hist_kws={\"edgecolor\": 'black'})\n",
    "plt.title(\"Histogram and distribution plot for ex_showroom_price\")\n",
    "plt.xlabel(\"ex_showroom_price\")\n",
    "plt.ylabel(\"Frenqency\")\n",
    "plt.show()"
   ]
  },
  {
   "cell_type": "code",
   "execution_count": 48,
   "id": "34dc2f99-4ab9-4ff8-949e-abb0f8f7337c",
   "metadata": {},
   "outputs": [
    {
     "data": {
      "text/plain": [
       "Text(0, 0.5, 'ex_showroom_price')"
      ]
     },
     "execution_count": 48,
     "metadata": {},
     "output_type": "execute_result"
    },
    {
     "data": {
      "image/png": "[encoded data removed]",
      "text/plain": [
       "<Figure size 432x288 with 1 Axes>"
      ]
     },
     "metadata": {
      "needs_background": "light"
     },
     "output_type": "display_data"
    }
   ],
   "source": [
    "Motor.boxplot(column='ex_showroom_price')\n",
    "plt.title(\"Boxplot for ex_showroom_price\")\n",
    "plt.ylabel(\"ex_showroom_price\")"
   ]
  },
  {
   "cell_type": "code",
   "execution_count": 49,
   "id": "0a510f09-f147-4067-a19e-7d863c5c4374",
   "metadata": {},
   "outputs": [
    {
     "data": {
      "text/plain": [
       "<AxesSubplot:xlabel='year', ylabel='ex_showroom_price'>"
      ]
     },
     "execution_count": 49,
     "metadata": {},
     "output_type": "execute_result"
    },
    {
     "data": {
      "image/png": "[encoded data removed]",
      "text/plain": [
       "<Figure size 432x288 with 1 Axes>"
      ]
     },
     "metadata": {
      "needs_background": "light"
     },
     "output_type": "display_data"
    }
   ],
   "source": [
    "Motor.plot.scatter(x = \"year\", y = \"ex_showroom_price\",c = \"green\")"
   ]
  },
  {
   "cell_type": "markdown",
   "id": "6717abaa-b6b4-4b76-be03-8f96196408af",
   "metadata": {},
   "source": [
    "### Relationship between response variable and numeric variables"
   ]
  },
  {
   "cell_type": "markdown",
   "id": "915d3f13-5fa8-4d5f-9652-3f925e760d4d",
   "metadata": {},
   "source": [
    "* Some relationship between `selling price` and `km_driven`"
   ]
  },
  {
   "cell_type": "code",
   "execution_count": 51,
   "id": "fb00d2b8-b10f-4c25-8925-1a3975abb24c",
   "metadata": {},
   "outputs": [
    {
     "name": "stdout",
     "output_type": "stream",
     "text": [
      "Correlation between selling price and driven kilometer\n",
      "\n",
      "            s_price  km_driven\n",
      "s_price    1.000000  -0.212937\n",
      "km_driven -0.212937   1.000000\n"
     ]
    }
   ],
   "source": [
    "print(\"Correlation between selling price and driven kilometer\\n\")\n",
    "print(Motor[[\"s_price\",\"km_driven\"]].corr())"
   ]
  },
  {
   "cell_type": "code",
   "execution_count": 52,
   "id": "006145c2-0203-431c-8218-5886ace6965f",
   "metadata": {},
   "outputs": [
    {
     "name": "stdout",
     "output_type": "stream",
     "text": [
      "67618.07212024048 -0.2322456088674644\n"
     ]
    }
   ],
   "source": [
    "no_naMotor = Motor[[\"s_price\",\"km_driven\"]].dropna()\n",
    "slope,intercept,*_ = stats.linregress(no_naMotor.km_driven,no_naMotor.s_price)\n",
    "print(intercept,slope)"
   ]
  },
  {
   "cell_type": "markdown",
   "id": "0097c2c2-5922-4d24-8644-12625f547226",
   "metadata": {},
   "source": [
    "Let's plot scatter with trend line for developing relationship explicitly via graph"
   ]
  },
  {
   "cell_type": "code",
   "execution_count": 53,
   "id": "3d567b37-e922-4209-adce-6f0476df35a3",
   "metadata": {},
   "outputs": [
    {
     "data": {
      "image/png": "[encoded data removed]",
      "text/plain": [
       "<Figure size 432x288 with 1 Axes>"
      ]
     },
     "metadata": {
      "needs_background": "light"
     },
     "output_type": "display_data"
    }
   ],
   "source": [
    "yhat = intercept + slope*no_naMotor.km_driven\n",
    "fit = pd.DataFrame(zip(no_naMotor.km_driven,yhat))\n",
    "fit.columns = [\"x\",\"yhat\"]\n",
    "Motor.plot.scatter(x = \"km_driven\",y = \"s_price\")\n",
    "plt.plot(no_naMotor.km_driven,yhat,c = \"red\",label = \"SLR fit\")\n",
    "plt.title(\"Scatter plot with trend line for km_driven and selling_price relationship\")\n",
    "plt.legend()\n",
    "plt.show()"
   ]
  },
  {
   "cell_type": "markdown",
   "id": "90990e01-9640-44a1-8865-01788b33e3b9",
   "metadata": {},
   "source": [
    "Let's see what happened for kmdrive and seller price in each year, check if they have seasonal trend"
   ]
  },
  {
   "cell_type": "code",
   "execution_count": 54,
   "id": "46b6143b-2ed6-4741-8406-7c9503ed5225",
   "metadata": {},
   "outputs": [
    {
     "data": {
      "text/plain": [
       "Text(0.5, 1.0, 'Mean of sellerprice and kmdrive in each years')"
      ]
     },
     "execution_count": 54,
     "metadata": {},
     "output_type": "execute_result"
    },
    {
     "data": {
      "image/png": "[encoded data removed]",
      "text/plain": [
       "<Figure size 432x288 with 1 Axes>"
      ]
     },
     "metadata": {
      "needs_background": "light"
     },
     "output_type": "display_data"
    }
   ],
   "source": [
    "mean_data = Motor.groupby(\"year\").agg(\n",
    "mean_sellerprice = (\"s_price\", np.mean),\n",
    "mean_kmdriven = (\"km_driven\", np.mean)\n",
    ")\n",
    "mean_data.plot.line()\n",
    "plt.title(\"Mean of sellerprice and kmdrive in each years\")"
   ]
  },
  {
   "cell_type": "markdown",
   "id": "22c12076-3b26-4ee0-8fe8-13d7c32c89ca",
   "metadata": {},
   "source": [
    "* Some relationship between `selling price` and `ex_showroom_price`"
   ]
  },
  {
   "cell_type": "code",
   "execution_count": 55,
   "id": "ce74b8af-2716-415a-83ae-6ac102f26188",
   "metadata": {},
   "outputs": [
    {
     "name": "stdout",
     "output_type": "stream",
     "text": [
      "Correlation between selling price and ex_showroom_price\n",
      "\n",
      "                    s_price  ex_showroom_price\n",
      "s_price            1.000000           0.918583\n",
      "ex_showroom_price  0.918583           1.000000\n"
     ]
    }
   ],
   "source": [
    "print(\"Correlation between selling price and ex_showroom_price\\n\")\n",
    "print(Motor[[\"s_price\",\"ex_showroom_price\"]].corr())"
   ]
  },
  {
   "cell_type": "code",
   "execution_count": 56,
   "id": "db524423-7248-4f9f-9d9b-ec6951ce3e33",
   "metadata": {},
   "outputs": [
    {
     "name": "stdout",
     "output_type": "stream",
     "text": [
      "-3010.698402053742 0.7100588453119142\n"
     ]
    }
   ],
   "source": [
    "no_naMotor = Motor[[\"s_price\",\"ex_showroom_price\"]].dropna()\n",
    "slope,intercept,*_ = stats.linregress(no_naMotor.ex_showroom_price,no_naMotor.s_price)\n",
    "print(intercept,slope)"
   ]
  },
  {
   "cell_type": "markdown",
   "id": "10a1d442-2fb0-4c89-8e05-5b7563c25491",
   "metadata": {},
   "source": [
    "Let's plot scatter with trend line for developing relationship explicitly via graph"
   ]
  },
  {
   "cell_type": "code",
   "execution_count": 57,
   "id": "ce9fc7af-67ef-47bb-bd10-808ba8d79975",
   "metadata": {},
   "outputs": [
    {
     "data": {
      "image/png": "[encoded data removed]",
      "text/plain": [
       "<Figure size 432x288 with 1 Axes>"
      ]
     },
     "metadata": {
      "needs_background": "light"
     },
     "output_type": "display_data"
    }
   ],
   "source": [
    "yhat = intercept + slope*no_naMotor.ex_showroom_price\n",
    "fit = pd.DataFrame(zip(no_naMotor.ex_showroom_price,yhat))\n",
    "fit.columns = [\"x\",\"yhat\"]\n",
    "Motor.plot.scatter(x = \"ex_showroom_price\",y = \"s_price\")\n",
    "plt.plot(no_naMotor.ex_showroom_price,yhat,c = \"orange\",label = \"SLR fit\")\n",
    "plt.title(\"Scatter plot with trend line for ex_showroom_price and selling_price relationship\")\n",
    "plt.legend()\n",
    "plt.show()"
   ]
  },
  {
   "cell_type": "code",
   "execution_count": 58,
   "id": "b2547fc9-e45c-43a1-94ce-4b20fe933352",
   "metadata": {},
   "outputs": [
    {
     "data": {
      "text/plain": [
       "Text(0.5, 1.0, 'Mean of sellerprice and ex_showroom_price in each years')"
      ]
     },
     "execution_count": 58,
     "metadata": {},
     "output_type": "execute_result"
    },
    {
     "data": {
      "image/png": "[encoded data removed]",
      "text/plain": [
       "<Figure size 432x288 with 1 Axes>"
      ]
     },
     "metadata": {
      "needs_background": "light"
     },
     "output_type": "display_data"
    }
   ],
   "source": [
    "mean_data = Motor.groupby(\"year\").agg(\n",
    "mean_sellerprice = (\"s_price\", np.mean),\n",
    "mean_kmdriven = (\"ex_showroom_price\", np.mean)\n",
    ")\n",
    "mean_data.plot.line()\n",
    "plt.title(\"Mean of sellerprice and ex_showroom_price in each years\")"
   ]
  },
  {
   "cell_type": "code",
   "execution_count": 9,
   "id": "81b18573-12fe-4169-95cc-6c846160a14a",
   "metadata": {},
   "outputs": [
    {
     "name": "stdout",
     "output_type": "stream",
     "text": [
      "Standard deviation of selling price, driven kilometer and ex_showroom_price groupby owner and seller type\n",
      "                            s_price      km_driven  ex_showroom_price\n",
      "owner     s_type                                                     \n",
      "1st owner Dealer       19390.719430   24503.120595       28860.407499\n",
      "          Individual   51642.736480   45946.135797       54639.511957\n",
      "2nd owner Dealer        7071.067812   63639.610307                NaN\n",
      "          Individual   82216.213951   35656.454003      168949.652980\n",
      "3rd owner Dealer                NaN            NaN                NaN\n",
      "          Individual   38385.129697   20934.499573       20129.009017\n",
      "4th owner Dealer                NaN            NaN                NaN\n",
      "          Individual  183325.757419  492772.513438                NaN\n"
     ]
    }
   ],
   "source": [
    "print(\"Standard deviation of selling price, driven kilometer and ex_showroom_price groupby owner and seller type\")\n",
    "print(Motor.drop([\"name\"],axis = 1).groupby([\"owner\",\"s_type\"]).std())"
   ]
  },
  {
   "cell_type": "code",
   "execution_count": 10,
   "id": "ef8a21bf-9122-415a-9cec-8e8a9ba6fde2",
   "metadata": {},
   "outputs": [
    {
     "name": "stdout",
     "output_type": "stream",
     "text": [
      "Mean, standard deviationa and median of selling price groupby owner and seller type\n"
     ]
    },
    {
     "data": {
      "text/html": [
       "<div>\n",
       "<style scoped>\n",
       "    .dataframe tbody tr th:only-of-type {\n",
       "        vertical-align: middle;\n",
       "    }\n",
       "\n",
       "    .dataframe tbody tr th {\n",
       "        vertical-align: top;\n",
       "    }\n",
       "\n",
       "    .dataframe thead tr th {\n",
       "        text-align: left;\n",
       "    }\n",
       "\n",
       "    .dataframe thead tr:last-of-type th {\n",
       "        text-align: right;\n",
       "    }\n",
       "</style>\n",
       "<table border=\"1\" class=\"dataframe\">\n",
       "  <thead>\n",
       "    <tr>\n",
       "      <th></th>\n",
       "      <th colspan=\"2\" halign=\"left\">mean</th>\n",
       "      <th colspan=\"2\" halign=\"left\">median</th>\n",
       "      <th colspan=\"2\" halign=\"left\">std</th>\n",
       "    </tr>\n",
       "    <tr>\n",
       "      <th>s_type</th>\n",
       "      <th>Dealer</th>\n",
       "      <th>Individual</th>\n",
       "      <th>Dealer</th>\n",
       "      <th>Individual</th>\n",
       "      <th>Dealer</th>\n",
       "      <th>Individual</th>\n",
       "    </tr>\n",
       "    <tr>\n",
       "      <th>owner</th>\n",
       "      <th></th>\n",
       "      <th></th>\n",
       "      <th></th>\n",
       "      <th></th>\n",
       "      <th></th>\n",
       "      <th></th>\n",
       "    </tr>\n",
       "  </thead>\n",
       "  <tbody>\n",
       "    <tr>\n",
       "      <th>1st owner</th>\n",
       "      <td>60000.0</td>\n",
       "      <td>60022.913043</td>\n",
       "      <td>61000.0</td>\n",
       "      <td>45000.0</td>\n",
       "      <td>19390.719430</td>\n",
       "      <td>51642.736480</td>\n",
       "    </tr>\n",
       "    <tr>\n",
       "      <th>2nd owner</th>\n",
       "      <td>20000.0</td>\n",
       "      <td>56256.190083</td>\n",
       "      <td>20000.0</td>\n",
       "      <td>35000.0</td>\n",
       "      <td>7071.067812</td>\n",
       "      <td>82216.213951</td>\n",
       "    </tr>\n",
       "    <tr>\n",
       "      <th>3rd owner</th>\n",
       "      <td>NaN</td>\n",
       "      <td>55727.272727</td>\n",
       "      <td>NaN</td>\n",
       "      <td>45000.0</td>\n",
       "      <td>NaN</td>\n",
       "      <td>38385.129697</td>\n",
       "    </tr>\n",
       "    <tr>\n",
       "      <th>4th owner</th>\n",
       "      <td>NaN</td>\n",
       "      <td>118333.333333</td>\n",
       "      <td>NaN</td>\n",
       "      <td>15000.0</td>\n",
       "      <td>NaN</td>\n",
       "      <td>183325.757419</td>\n",
       "    </tr>\n",
       "  </tbody>\n",
       "</table>\n",
       "</div>"
      ],
      "text/plain": [
       "              mean                  median                      std  \\\n",
       "s_type      Dealer     Individual   Dealer Individual        Dealer   \n",
       "owner                                                                 \n",
       "1st owner  60000.0   60022.913043  61000.0    45000.0  19390.719430   \n",
       "2nd owner  20000.0   56256.190083  20000.0    35000.0   7071.067812   \n",
       "3rd owner      NaN   55727.272727      NaN    45000.0           NaN   \n",
       "4th owner      NaN  118333.333333      NaN    15000.0           NaN   \n",
       "\n",
       "                          \n",
       "s_type        Individual  \n",
       "owner                     \n",
       "1st owner   51642.736480  \n",
       "2nd owner   82216.213951  \n",
       "3rd owner   38385.129697  \n",
       "4th owner  183325.757419  "
      ]
     },
     "execution_count": 10,
     "metadata": {},
     "output_type": "execute_result"
    }
   ],
   "source": [
    "print(\"Mean, standard deviationa and median of selling price groupby owner and seller type\")\n",
    "pd.crosstab(Motor.owner,Motor.s_type, values = Motor.s_price, aggfunc = [\"mean\",\"median\",\"std\"])"
   ]
  },
  {
   "cell_type": "code",
   "execution_count": 11,
   "id": "b16be6ab-fa0d-48a7-8ede-ea0077e2381e",
   "metadata": {},
   "outputs": [
    {
     "name": "stdout",
     "output_type": "stream",
     "text": [
      "Mean, standard deviationa and median of driven kilometer groupby owner and seller type\n"
     ]
    },
    {
     "data": {
      "text/html": [
       "<div>\n",
       "<style scoped>\n",
       "    .dataframe tbody tr th:only-of-type {\n",
       "        vertical-align: middle;\n",
       "    }\n",
       "\n",
       "    .dataframe tbody tr th {\n",
       "        vertical-align: top;\n",
       "    }\n",
       "\n",
       "    .dataframe thead tr th {\n",
       "        text-align: left;\n",
       "    }\n",
       "\n",
       "    .dataframe thead tr:last-of-type th {\n",
       "        text-align: right;\n",
       "    }\n",
       "</style>\n",
       "<table border=\"1\" class=\"dataframe\">\n",
       "  <thead>\n",
       "    <tr>\n",
       "      <th></th>\n",
       "      <th colspan=\"2\" halign=\"left\">mean</th>\n",
       "      <th colspan=\"2\" halign=\"left\">median</th>\n",
       "      <th colspan=\"2\" halign=\"left\">std</th>\n",
       "    </tr>\n",
       "    <tr>\n",
       "      <th>s_type</th>\n",
       "      <th>Dealer</th>\n",
       "      <th>Individual</th>\n",
       "      <th>Dealer</th>\n",
       "      <th>Individual</th>\n",
       "      <th>Dealer</th>\n",
       "      <th>Individual</th>\n",
       "    </tr>\n",
       "    <tr>\n",
       "      <th>owner</th>\n",
       "      <th></th>\n",
       "      <th></th>\n",
       "      <th></th>\n",
       "      <th></th>\n",
       "      <th></th>\n",
       "      <th></th>\n",
       "    </tr>\n",
       "  </thead>\n",
       "  <tbody>\n",
       "    <tr>\n",
       "      <th>1st owner</th>\n",
       "      <td>25388.25</td>\n",
       "      <td>32848.880435</td>\n",
       "      <td>18925.0</td>\n",
       "      <td>24000.0</td>\n",
       "      <td>24503.120595</td>\n",
       "      <td>45946.135797</td>\n",
       "    </tr>\n",
       "    <tr>\n",
       "      <th>2nd owner</th>\n",
       "      <td>55000.00</td>\n",
       "      <td>39029.305785</td>\n",
       "      <td>55000.0</td>\n",
       "      <td>34000.0</td>\n",
       "      <td>63639.610307</td>\n",
       "      <td>35656.454003</td>\n",
       "    </tr>\n",
       "    <tr>\n",
       "      <th>3rd owner</th>\n",
       "      <td>NaN</td>\n",
       "      <td>33292.181818</td>\n",
       "      <td>NaN</td>\n",
       "      <td>35000.0</td>\n",
       "      <td>NaN</td>\n",
       "      <td>20934.499573</td>\n",
       "    </tr>\n",
       "    <tr>\n",
       "      <th>4th owner</th>\n",
       "      <td>NaN</td>\n",
       "      <td>311500.000000</td>\n",
       "      <td>NaN</td>\n",
       "      <td>48000.0</td>\n",
       "      <td>NaN</td>\n",
       "      <td>492772.513438</td>\n",
       "    </tr>\n",
       "  </tbody>\n",
       "</table>\n",
       "</div>"
      ],
      "text/plain": [
       "               mean                  median                      std  \\\n",
       "s_type       Dealer     Individual   Dealer Individual        Dealer   \n",
       "owner                                                                  \n",
       "1st owner  25388.25   32848.880435  18925.0    24000.0  24503.120595   \n",
       "2nd owner  55000.00   39029.305785  55000.0    34000.0  63639.610307   \n",
       "3rd owner       NaN   33292.181818      NaN    35000.0           NaN   \n",
       "4th owner       NaN  311500.000000      NaN    48000.0           NaN   \n",
       "\n",
       "                          \n",
       "s_type        Individual  \n",
       "owner                     \n",
       "1st owner   45946.135797  \n",
       "2nd owner   35656.454003  \n",
       "3rd owner   20934.499573  \n",
       "4th owner  492772.513438  "
      ]
     },
     "execution_count": 11,
     "metadata": {},
     "output_type": "execute_result"
    }
   ],
   "source": [
    "print(\"Mean, standard deviationa and median of driven kilometer groupby owner and seller type\")\n",
    "pd.crosstab(Motor.owner,Motor.s_type, values = Motor.km_driven, aggfunc = [\"mean\",\"median\",\"std\"])"
   ]
  },
  {
   "cell_type": "code",
   "execution_count": 12,
   "id": "808c884b-7b3f-4d97-9778-0ff183e0b8c1",
   "metadata": {},
   "outputs": [
    {
     "name": "stdout",
     "output_type": "stream",
     "text": [
      "Mean, standard deviationa and median of ex_showroom_price groupby owner and seller type\n"
     ]
    },
    {
     "data": {
      "text/html": [
       "<div>\n",
       "<style scoped>\n",
       "    .dataframe tbody tr th:only-of-type {\n",
       "        vertical-align: middle;\n",
       "    }\n",
       "\n",
       "    .dataframe tbody tr th {\n",
       "        vertical-align: top;\n",
       "    }\n",
       "\n",
       "    .dataframe thead tr th {\n",
       "        text-align: left;\n",
       "    }\n",
       "\n",
       "    .dataframe thead tr:last-of-type th {\n",
       "        text-align: right;\n",
       "    }\n",
       "</style>\n",
       "<table border=\"1\" class=\"dataframe\">\n",
       "  <thead>\n",
       "    <tr>\n",
       "      <th></th>\n",
       "      <th colspan=\"2\" halign=\"left\">mean</th>\n",
       "      <th colspan=\"2\" halign=\"left\">median</th>\n",
       "      <th colspan=\"2\" halign=\"left\">std</th>\n",
       "    </tr>\n",
       "    <tr>\n",
       "      <th>s_type</th>\n",
       "      <th>Dealer</th>\n",
       "      <th>Individual</th>\n",
       "      <th>Dealer</th>\n",
       "      <th>Individual</th>\n",
       "      <th>Dealer</th>\n",
       "      <th>Individual</th>\n",
       "    </tr>\n",
       "    <tr>\n",
       "      <th>owner</th>\n",
       "      <th></th>\n",
       "      <th></th>\n",
       "      <th></th>\n",
       "      <th></th>\n",
       "      <th></th>\n",
       "      <th></th>\n",
       "    </tr>\n",
       "  </thead>\n",
       "  <tbody>\n",
       "    <tr>\n",
       "      <th>1st owner</th>\n",
       "      <td>88536.0</td>\n",
       "      <td>84340.157324</td>\n",
       "      <td>85011.0</td>\n",
       "      <td>72532.0</td>\n",
       "      <td>28860.407499</td>\n",
       "      <td>54639.511957</td>\n",
       "    </tr>\n",
       "    <tr>\n",
       "      <th>2nd owner</th>\n",
       "      <td>NaN</td>\n",
       "      <td>112554.651515</td>\n",
       "      <td>NaN</td>\n",
       "      <td>73299.0</td>\n",
       "      <td>NaN</td>\n",
       "      <td>168949.652980</td>\n",
       "    </tr>\n",
       "    <tr>\n",
       "      <th>3rd owner</th>\n",
       "      <td>NaN</td>\n",
       "      <td>64611.000000</td>\n",
       "      <td>NaN</td>\n",
       "      <td>64589.0</td>\n",
       "      <td>NaN</td>\n",
       "      <td>20129.009017</td>\n",
       "    </tr>\n",
       "    <tr>\n",
       "      <th>4th owner</th>\n",
       "      <td>NaN</td>\n",
       "      <td>534000.000000</td>\n",
       "      <td>NaN</td>\n",
       "      <td>534000.0</td>\n",
       "      <td>NaN</td>\n",
       "      <td>NaN</td>\n",
       "    </tr>\n",
       "  </tbody>\n",
       "</table>\n",
       "</div>"
      ],
      "text/plain": [
       "              mean                  median                      std  \\\n",
       "s_type      Dealer     Individual   Dealer Individual        Dealer   \n",
       "owner                                                                 \n",
       "1st owner  88536.0   84340.157324  85011.0    72532.0  28860.407499   \n",
       "2nd owner      NaN  112554.651515      NaN    73299.0           NaN   \n",
       "3rd owner      NaN   64611.000000      NaN    64589.0           NaN   \n",
       "4th owner      NaN  534000.000000      NaN   534000.0           NaN   \n",
       "\n",
       "                          \n",
       "s_type        Individual  \n",
       "owner                     \n",
       "1st owner   54639.511957  \n",
       "2nd owner  168949.652980  \n",
       "3rd owner   20129.009017  \n",
       "4th owner            NaN  "
      ]
     },
     "execution_count": 12,
     "metadata": {},
     "output_type": "execute_result"
    }
   ],
   "source": [
    "print(\"Mean, standard deviationa and median of ex_showroom_price groupby owner and seller type\")\n",
    "pd.crosstab(Motor.owner,Motor.s_type, values = Motor.ex_showroom_price, aggfunc = [\"mean\",\"median\",\"std\"])"
   ]
  },
  {
   "cell_type": "markdown",
   "id": "dbfa012a-21db-491b-8d3a-01bc90707638",
   "metadata": {},
   "source": [
    "## Prediction of selling_price"
   ]
  },
  {
   "cell_type": "markdown",
   "id": "981c6824-3e7b-40e2-aa91-cdd42a1d34c2",
   "metadata": {},
   "source": [
    "### Using Grid Search Algorithm"
   ]
  },
  {
   "cell_type": "markdown",
   "id": "50ec04bf-4a95-45c8-92de-f22238e4197b",
   "metadata": {},
   "source": [
    "Create grid of values for c"
   ]
  },
  {
   "cell_type": "code",
   "execution_count": 56,
   "id": "fc90d37f-e8d2-4f8c-afb9-89431bec14c5",
   "metadata": {},
   "outputs": [],
   "source": [
    "c = []\n",
    "for i in range(40001):\n",
    "    c.append(30000+i)"
   ]
  },
  {
   "cell_type": "markdown",
   "id": "ed604a65-bd2b-445d-87ab-e8351832cd93",
   "metadata": {},
   "source": [
    "Define a function that found which c making RMSE smallest"
   ]
  },
  {
   "cell_type": "code",
   "execution_count": 57,
   "id": "5c72f377-739a-4fe6-b3ed-20044040dbff",
   "metadata": {
    "tags": []
   },
   "outputs": [],
   "source": [
    "def lossfuc(c,y):\n",
    "    n = []\n",
    "    for m in range(len(c)):\n",
    "        x = []\n",
    "        for i in range(len(y)):\n",
    "            v = (y[i]-c[m])**2\n",
    "            x.append(v)\n",
    "        z = np.sqrt(np.sum(x)/len(y))\n",
    "        n.append(z)\n",
    "    l =n.index(min(n))\n",
    "    return c[l]"
   ]
  },
  {
   "cell_type": "markdown",
   "id": "f1b413d1-4722-4188-918b-1f6bd7e265b2",
   "metadata": {},
   "source": [
    "Implement the function"
   ]
  },
  {
   "cell_type": "code",
   "execution_count": 64,
   "id": "496756f7-7981-4a87-80cf-0e2ee062a010",
   "metadata": {
    "tags": []
   },
   "outputs": [],
   "source": [
    "OPTc_sprice = lossfuc(c,Motor[\"s_price\"])\n",
    "v = [(i-OPTc_sprice)**2 for i in Motor.s_price]\n",
    "z = np.sqrt(np.sum(v)/len(v))"
   ]
  },
  {
   "cell_type": "code",
   "execution_count": 67,
   "id": "f3ad4012-16b2-48fc-97b5-a6b5e98fdd37",
   "metadata": {},
   "outputs": [],
   "source": [
    "OPTc_kmdriven = lossfuc(c,Motor[\"km_driven\"])\n",
    "v = [(i-OPTc_kmdriven)**2 for i in Motor.km_driven]\n",
    "x = np.sqrt(np.sum(v)/len(v))"
   ]
  },
  {
   "cell_type": "code",
   "execution_count": 69,
   "id": "260b6467-bf9c-4331-9b86-5d4be08c5aec",
   "metadata": {},
   "outputs": [
    {
     "name": "stdout",
     "output_type": "stream",
     "text": [
      "Optimal c for s_price is 59638 Smallest RMSE is 56277.75212166089\n",
      "Optimal c for kmdriven is 34360 Smallest RMSE is 51598.81937376337\n"
     ]
    }
   ],
   "source": [
    "print(\"Optimal c for s_price is\",OPTc_sprice,\"Smallest RMSE is\", z)\n",
    "print(\"Optimal c for kmdriven is\",OPTc_kmdriven,\"Smallest RMSE is\", x)"
   ]
  },
  {
   "cell_type": "markdown",
   "id": "dc78c910-a331-4e18-b4a4-22bcd052dc8e",
   "metadata": {},
   "source": [
    "### Using y and another numeric variable x:"
   ]
  },
  {
   "cell_type": "code",
   "execution_count": 73,
   "id": "79767dd0-00e0-4861-9532-b2168d3fdce9",
   "metadata": {},
   "outputs": [],
   "source": [
    "def nvfunc(km):\n",
    "    yhat = []\n",
    "    for b0 in range(60000,70000):\n",
    "        for b1 in range(-100,100):\n",
    "            yhat.append((b1/100)*km+b0)\n",
    "    return yhat"
   ]
  },
  {
   "cell_type": "code",
   "execution_count": 78,
   "id": "34c1bddf-d168-4610-960d-dab702b0c99a",
   "metadata": {},
   "outputs": [],
   "source": [
    "yhat10 = nvfunc(10000)\n",
    "yhat25 = nvfunc(25000)\n",
    "yhat35 = nvfunc(35000)"
   ]
  },
  {
   "cell_type": "code",
   "execution_count": null,
   "id": "f27b5a95-745e-46ee-bd0f-b180b79a7cab",
   "metadata": {},
   "outputs": [],
   "source": [
    "opty10 = lossfuc(yhat10,Motor[\"s_price\"])\n",
    "opty25 = lossfuc(yhat25,Motor[\"s_price\"])                           \n",
    "opty35 = lossfuc(yhat35,Motor[\"s_price\"])                      "
   ]
  },
  {
   "cell_type": "code",
   "execution_count": null,
   "id": "97bc16eb-17dd-4b85-90df-cc697e0eea68",
   "metadata": {},
   "outputs": [],
   "source": [
    "print(\"smallest RMSE is\",opty10,\"with 10000 kmdriven\")\n",
    "print(\"smallest RMSE is\",opty25,\"with 25000 kmdriven\")\n",
    "print(\"smallest RMSE is\",opty35,\"with 35000 kmdriven\")"
   ]
  },
  {
   "cell_type": "markdown",
   "id": "e0693429-f36a-48a0-9535-c8a34ecba096",
   "metadata": {},
   "source": [
    "### Using a gradient Descent Algorithm"
   ]
  },
  {
   "cell_type": "code",
   "execution_count": null,
   "id": "f2af26c3-d70f-49af-8f93-1a845f94a555",
   "metadata": {},
   "outputs": [],
   "source": [
    "def DQfunc(y,c,delta):\n",
    "    diff = (np.sqrt(sum((x-c-delta)**2 for x in y)/len(y))-np.sqrt(sum((x-c)**2 for x in y)/len(y)))/delta\n",
    "    return diff\n",
    "cur_c = 50000\n",
    "delta = 0.001\n",
    "stepsize = 0.5\n",
    "num_tol = 0.001\n",
    "new_c = cur_c - DQfunc(Motor.s_price,cur_c,delta)*stepsize\n",
    "i = 0\n",
    "while abs(new_c-cur_c) >= num_tol:\n",
    "    i = i+1\n",
    "    cur_c = new_c\n",
    "    new_c = cur_c - DQfunc(Motor.s_price,cur_c,delta)*stepsize\n",
    "    if i>1000000:\n",
    "        break\n",
    "cur_c =new_c\n",
    "v = [(i-cur_c)**2 for i in Motor.s_price]\n",
    "b = np.sqrt(np.sum(v)/len(v))"
   ]
  },
  {
   "cell_type": "code",
   "execution_count": 84,
   "id": "8c52d62d-b0e2-4f32-ae38-fbd0edc02460",
   "metadata": {},
   "outputs": [
    {
     "name": "stdout",
     "output_type": "stream",
     "text": [
      "Value of optimal c is 59525.56749890937 Number of iteration 501667 smallest RMSE 56277.86473433619\n"
     ]
    }
   ],
   "source": [
    "print(\"Value of optimal c is\",cur_c,\"Number of iteration\",i,\"smallest RMSE\",b)"
   ]
  },
  {
   "cell_type": "code",
   "execution_count": 86,
   "id": "ddccbc1d-5788-442e-b0fb-826a7c5bc152",
   "metadata": {
    "tags": []
   },
   "outputs": [],
   "source": [
    "cur_c = 50000\n",
    "delta = 0.001\n",
    "stepsize = 0.5\n",
    "num_tol = 0.001\n",
    "new_c = cur_c - DQfunc(Motor.km_driven,cur_c,delta)*stepsize\n",
    "i = 0\n",
    "while abs(new_c-cur_c) >= num_tol:\n",
    "    i = i+1\n",
    "    cur_c = new_c\n",
    "    new_c = cur_c - DQfunc(Motor.km_driven,cur_c,delta)*stepsize\n",
    "    if i>1000000:\n",
    "        break\n",
    "cur_c =new_c\n",
    "v = [(i-cur_c)**2 for i in Motor.km_driven]\n",
    "q = np.sqrt(np.sum(v)/len(v))"
   ]
  },
  {
   "cell_type": "code",
   "execution_count": 87,
   "id": "30969d06-dc5d-4511-ace2-9b21ef033269",
   "metadata": {},
   "outputs": [
    {
     "name": "stdout",
     "output_type": "stream",
     "text": [
      "Value of optimal c is 34463.03208671088 Number of iteration 520489 smallest RMSE 51598.92257357268\n"
     ]
    }
   ],
   "source": [
    "print(\"Value of optimal c is\",cur_c,\"Number of iteration\",i,\"smallest RMSE\",q)"
   ]
  },
  {
   "cell_type": "markdown",
   "id": "69137cc1-82e5-4a8f-8ac7-f0ba23d99b56",
   "metadata": {},
   "source": [
    "### Using y and another numeric variable"
   ]
  },
  {
   "cell_type": "code",
   "execution_count": 122,
   "id": "19e321b7-8289-4b2a-8866-7d42f591de1c",
   "metadata": {},
   "outputs": [
    {
     "data": {
      "text/plain": [
       "array([2, 4, 6])"
      ]
     },
     "execution_count": 122,
     "metadata": {},
     "output_type": "execute_result"
    }
   ],
   "source": [
    "x = [1,2,3]\n",
    "np.array(x)*2"
   ]
  },
  {
   "cell_type": "code",
   "execution_count": 119,
   "id": "b60c3c58-d55c-4c2b-af37-8ae1f3cf3daa",
   "metadata": {},
   "outputs": [],
   "source": [
    "def DQb0func(y,b0,b1,delta0,km):\n",
    "    newposi = np.sqrt((sum([(b0-delta0-b1*x)**2 for x in y])-sum(km))/len(y))\n",
    "    original = np.sqrt((sum([(b0-b1*x)**2 for x in y])-sum(km))/len(y))\n",
    "    increase = newposi - original\n",
    "    diff = increase/delta0\n",
    "    return diff\n",
    "def DQb1func(y,b0,b1,delta1,km):\n",
    "    newposi = np.sqrt((sum([(x-b0-(b1+delta1)*km)**2 for x in y])-sum(km))/len(y))\n",
    "    original = np.sqrt((sum([(x-b0-b1*km)**2 for x in y])-sum(km))/len(y))\n",
    "    increase = newposi - original\n",
    "    diff = increase/delta0\n",
    "    return diff"
   ]
  },
  {
   "cell_type": "code",
   "execution_count": 13,
   "id": "f1d57eb1-cb63-4769-b36c-b5be29ec3bb5",
   "metadata": {},
   "outputs": [],
   "source": [
    "def RMSE(x,y,b0,b1):\n",
    "    x = np.array(x)\n",
    "    y = np.array(y)\n",
    "    x = np.array(x)*b1+b0\n",
    "    RMSE = np.subtract(y,x)\n",
    "    RMSE = list(RMSE)\n",
    "    return RMSE\n",
    "def dff_b0(x,y,b0,b1,delta0):\n",
    "    increase = np.sqrt(sum(list((np.array(RMSE(x,y,b0+delta0,b1)) - np.array(RMSE(x,y,b0,b1)))**2))/len(y))\n",
    "    diff = increase/delta0\n",
    "    return diff\n",
    "def dff_b1(x,y,b0,b1,delta1):\n",
    "    increase = np.sqrt(sum(list((np.array(RMSE(x,y,b0,b1+delta1)) - np.array(RMSE(x,y,b0,b1)))**2))/len(y))\n",
    "    diff = increase/delta0\n",
    "    return diff"
   ]
  },
  {
   "cell_type": "code",
   "execution_count": 137,
   "id": "3f447bf7-cc89-414a-a84d-8848c1a0931a",
   "metadata": {},
   "outputs": [
    {
     "data": {
      "text/plain": [
       "0.30996113855764557"
      ]
     },
     "execution_count": 138,
     "metadata": {},
     "output_type": "execute_result"
    }
   ],
   "source": [
    "dff_b0(Motor.km_driven,Motor.s_price,b0,b1,delta0)*stepsizeb0\n",
    "new_b1 = b1 - dff_b1(Motor.km_driven,Motor.s_price,b0,b1,delta1)*stepsizeb1\n",
    "new_b1"
   ]
  },
  {
   "cell_type": "code",
   "execution_count": 14,
   "id": "3d88beba-feee-40bd-9a78-6ba093283610",
   "metadata": {},
   "outputs": [
    {
     "name": "stdout",
     "output_type": "stream",
     "text": [
      "Optimal b0 and b1 are 59998.00000000097 -0.6199222771152908 Iteration number 1\n"
     ]
    }
   ],
   "source": [
    "b0 = 60000\n",
    "b1 = 0\n",
    "delta0 = 0.005\n",
    "delta1 = 0.005\n",
    "stepsizeb0 = 1\n",
    "stepsizeb1 = 0.000005\n",
    "num_tol = 0.001\n",
    "km = 10000\n",
    "new_b0 = b0 - dff_b0(Motor.km_driven,Motor.s_price,b0,b1,delta0)*stepsizeb0\n",
    "new_b1 = b1 - dff_b1(Motor.km_driven,Motor.s_price,b0,b1,delta1)*stepsizeb1\n",
    "i = 0\n",
    "while np.sqrt((new_b0-b0)**2+(new_b1-b1)**2) >= num_tol:\n",
    "    i = i+1\n",
    "    b0 = new_b0\n",
    "    b1 = new_b1\n",
    "    new_b0 = b0 - dff_b0(Motor.km_driven,Motor.s_price,b0,b1,delta0)*stepsizeb0\n",
    "    new_b1 = b1 - dff_b1(Motor.km_driven,Motor.s_price,b0,b1,delta1)*stepsizeb1\n",
    "    if i >100000:\n",
    "        break\n",
    "    b0 = new_b0\n",
    "    b1 = new_b1\n",
    "optb02 = b0\n",
    "optb12 = b1\n",
    "print(\"Optimal b0 and b1 are\",optb02,optb12,\"Iteration number\",i)"
   ]
  }
 ],
 "metadata": {
  "kernelspec": {
   "display_name": "Python 3 (ipykernel)",
   "language": "python",
   "name": "python3"
  },
  "language_info": {
   "codemirror_mode": {
    "name": "ipython",
    "version": 3
   },
   "file_extension": ".py",
   "mimetype": "text/x-python",
   "name": "python",
   "nbconvert_exporter": "python",
   "pygments_lexer": "ipython3",
   "version": "3.10.4"
  }
 },
 "nbformat": 4,
 "nbformat_minor": 5
}
