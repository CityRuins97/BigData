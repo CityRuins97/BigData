{
 "cells": [
  {
   "cell_type": "code",
   "execution_count": 1,
   "id": "f54cee6a-15a5-4b88-8bc2-1ce77547c3e1",
   "metadata": {},
   "outputs": [],
   "source": [
    "import pandas as pd\n",
    "import numpy as np\n",
    "import matplotlib.pyplot as plt"
   ]
  },
  {
   "cell_type": "code",
   "execution_count": 2,
   "id": "59b5f8d6-76a3-4a41-9675-3421cf1dcd62",
   "metadata": {},
   "outputs": [],
   "source": [
    "bike = pd.read_csv(\"bikeDetails.csv\")"
   ]
  },
  {
   "cell_type": "code",
   "execution_count": null,
   "id": "6b214816-a664-481f-b861-48ef449a01d3",
   "metadata": {},
   "outputs": [],
   "source": []
  }
 ],
 "metadata": {
  "kernelspec": {
   "display_name": "Python 3 (ipykernel)",
   "language": "python",
   "name": "python3"
  },
  "language_info": {
   "codemirror_mode": {
    "name": "ipython",
    "version": 3
   },
   "file_extension": ".py",
   "mimetype": "text/x-python",
   "name": "python",
   "nbconvert_exporter": "python",
   "pygments_lexer": "ipython3",
   "version": "3.10.3"
  }
 },
 "nbformat": 4,
 "nbformat_minor": 5
}
